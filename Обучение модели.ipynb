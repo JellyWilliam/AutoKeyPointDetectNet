{
 "cells": [
  {
   "cell_type": "markdown",
   "id": "1a4354d6-3b70-4e32-9153-b85231c382c5",
   "metadata": {},
   "source": [
    "# Импорт библиотек "
   ]
  },
  {
   "cell_type": "code",
   "execution_count": null,
   "id": "6a815a9a-c697-4a55-8333-f0852c724f8e",
   "metadata": {},
   "outputs": [],
   "source": [
    "from pathlib import Path\n",
    "\n",
    "import torch\n",
    "from torch import optim\n",
    "from torchvision.io import read_image\n",
    "from torchvision.ops import box_convert\n",
    "from torchvision.utils import draw_keypoints, save_image\n",
    "from torchvision.datasets import CocoDetection\n",
    "from torchvision.models.detection import keypointrcnn_resnet50_fpn, KeypointRCNN_ResNet50_FPN_Weights\n",
    "\n",
    "from tqdm.notebook import tqdm"
   ]
  },
  {
   "cell_type": "markdown",
   "id": "c7e23730-fe5c-4d32-bc8b-4c64b06b839e",
   "metadata": {},
   "source": [
    "# Конфигурация"
   ]
  },
  {
   "cell_type": "code",
   "execution_count": null,
   "id": "f5031823",
   "metadata": {
    "collapsed": false,
    "jupyter": {
     "outputs_hidden": false
    }
   },
   "outputs": [],
   "source": [
    "# Устройство, на котором будут проводиться вычисления\n",
    "device = 'cuda' if torch.cuda.is_available() else 'cpu'\n",
    "print(device)\n",
    "\n",
    "# Путь до обучающего датасета carfusion\n",
    "train_carfusion_dataset_path = \"D:/ProjectsData/Car Key Point/datasets/carfusion/train\"\n",
    "# Путь до обучающей аннотации carfusion\n",
    "train_carfusion_annotation_path = \"D:/ProjectsData/Car Key Point/datasets/carfusion/annotations/car_keypoints_train.json\"\n",
    "\n",
    "# Путь до тестового датасета carfusion\n",
    "test_carfusion_dataset_path = \"D:/ProjectsData/Car Key Point/datasets/carfusion/test\"\n",
    "# Путь до тестовой аннотации carfusion\n",
    "test_carfusion_annotation_path = \"D:/ProjectsData/Car Key Point/datasets/carfusion/annotations/car_keypoints_test.json\"\n",
    "\n",
    "# Предобработчик для KeypointRCNN ResNet50 FPN\n",
    "transforms = KeypointRCNN_ResNet50_FPN_Weights.DEFAULT.transforms()\n",
    "# Количество обучающих эпох\n",
    "n_epoch = 1\n",
    "\n",
    "# Путь до сохранения модели\n",
    "save_path = \"D:/ProjectsData/Car Key Point/models/keypointrcnn_resnet50_fpn.pt\"\n",
    "# \n",
    "load_checkpoint = False\n",
    "# \n",
    "checkpoint_path = \"D:/ProjectsData/Car Key Point/models/keypointrcnn_resnet50_fpn.pt\"\n",
    "\n",
    "# Путь до тестового изображения\n",
    "test_image_path = \"10_0361.jpg\"\n",
    "# Путь до сохранения различных уровней при тестировании (вместо {} будет указан уровень)\n",
    "save_img_path = \"out/out_{}.jpg\""
   ]
  },
  {
   "cell_type": "markdown",
   "id": "2c5e0008-fcee-45b8-8a28-fbadf8b57668",
   "metadata": {},
   "source": [
    "# Объявление функции предобработки целевой переменной"
   ]
  },
  {
   "cell_type": "code",
   "execution_count": null,
   "id": "9a52c9af-0ea0-459e-a92d-a62d450815a8",
   "metadata": {},
   "outputs": [],
   "source": [
    "def target_transform(target, device):\n",
    "    \"\"\"\n",
    "    Функция предобработки целевой переменной\n",
    "\n",
    "    :param target: dict целевой переменной\n",
    "    :param device: устройство, на котором будут проводиться вычисления\n",
    "    :return: предобработанная целевая переменная\n",
    "    \"\"\"\n",
    "    labels = []\n",
    "    if device == 'cuda':\n",
    "        for el in target:\n",
    "            labels.append(\n",
    "                {\n",
    "                    \"boxes\": box_convert(torch.as_tensor(el[\"bbox\"]).float(), in_fmt=\"xywh\",\n",
    "                                         out_fmt=\"xyxy\").cuda(),\n",
    "                    \"keypoints\": torch.as_tensor(el[\"keypoints\"]).float().cuda(),\n",
    "                    \"labels\": torch.as_tensor(el[\"category_id\"]).cuda()\n",
    "                }\n",
    "            )\n",
    "    else:\n",
    "        for el in target:\n",
    "            labels.append(\n",
    "                {\n",
    "                    \"boxes\": box_convert(torch.as_tensor(el[\"bbox\"]).float(), in_fmt=\"xywh\", out_fmt=\"xyxy\"),\n",
    "                    \"keypoints\": torch.as_tensor(el[\"keypoints\"]).float(),\n",
    "                    \"labels\": torch.as_tensor(el[\"category_id\"])\n",
    "                }\n",
    "            )\n",
    "\n",
    "    return labels"
   ]
  },
  {
   "cell_type": "markdown",
   "id": "8bdc876c-c30a-4ae6-bf5c-19485d0740e9",
   "metadata": {},
   "source": [
    "# Подготовка датасета"
   ]
  },
  {
   "cell_type": "code",
   "execution_count": null,
   "id": "9acbcfd8-50ff-4261-8195-6fdaf43495c4",
   "metadata": {},
   "outputs": [],
   "source": [
    "# Чтение датасета для обучения\n",
    "dataset_train = CocoDetection(root=train_carfusion_dataset_path,\n",
    "                              annFile=train_carfusion_annotation_path,\n",
    "                              transform=transforms,\n",
    "                              target_transform=lambda x: target_transform(x, device))\n",
    "# Чтение датасета для тестирования\n",
    "dataset_test = CocoDetection(root=test_carfusion_dataset_path,\n",
    "                             annFile=test_carfusion_annotation_path,\n",
    "                             transform=transforms,\n",
    "                             target_transform=lambda x: target_transform(x, device))\n",
    "# Вывод рамеров обучающей и тестовой выборок\n",
    "print(f\"Размер обучающей выборки: {len(dataset_train)}\\nРазмер тестовой выборки: {len(dataset_test)}\")\n",
    "\n",
    "# Инициализация DataLoader-ов\n",
    "# dataloader_train = torch.utils.data.DataLoader(dataset_train, batch_size=batch_size, shuffle=True, generator=torch.Generator(device=device))\n",
    "# dataloader_test = torch.utils.data.DataLoader(dataset_test, batch_size=1, shuffle=False, generator=torch.Generator(device=device))\n",
    "dataloader_train = torch.utils.data.DataLoader(dataset_train, batch_size=1, shuffle=True)\n",
    "dataloader_test = torch.utils.data.DataLoader(dataset_test, batch_size=1, shuffle=False)"
   ]
  },
  {
   "cell_type": "markdown",
   "id": "f9bec986-8e08-4438-9c59-2c6ef4514607",
   "metadata": {},
   "source": [
    "# Инициализация модели, оптимизатора и контроллера скорости оубчения"
   ]
  },
  {
   "cell_type": "code",
   "execution_count": null,
   "id": "fea9d4f5",
   "metadata": {
    "collapsed": false,
    "jupyter": {
     "outputs_hidden": false
    }
   },
   "outputs": [],
   "source": [
    "# Инициализация модели\n",
    "model = keypointrcnn_resnet50_fpn(weights=None, num_classes=2)\n",
    "model.to(device)\n",
    "\n",
    "# Инициализация оптимизатора\n",
    "optimizer = optim.SGD(model.parameters(), lr=0.001, momentum=0.9, weight_decay=0.5)\n",
    "# Инициализация контроллера скорости оубчения\n",
    "lr_scheduler = optim.lr_scheduler.MultiStepLR(optimizer, milestones=list(range(0, n_epoch, 3)), gamma=0.1)"
   ]
  },
  {
   "cell_type": "markdown",
   "id": "acca6c80-758f-400a-98e9-5d0ff918e208",
   "metadata": {},
   "source": [
    "# Обучение модели"
   ]
  },
  {
   "cell_type": "code",
   "execution_count": null,
   "id": "bfe8839f-eeb1-47a7-a36e-b87bf89a8484",
   "metadata": {},
   "outputs": [],
   "source": [
    "# Переменная для хранения лучшего значения функции потерь (меньшще - лучше)\n",
    "best_loss = float('inf')\n",
    "for epoch in range(n_epoch):\n",
    "    print(f\"Эпоха: {epoch + 1}/{n_epoch}\")\n",
    "    # Перевод модели в режим обучения\n",
    "    model.train()\n",
    "\n",
    "    # Переменная для подсчета потерь эпохи при обучении\n",
    "    loss_train = 0\n",
    "    # Переменная для подсчета количества данных при обучении (может возникнуть ситуация, когда в батче будет хоть один \"boxes\" == [0, 0, 0, 0], что сломает процесс обучения)\n",
    "    count_train = 0\n",
    "    # Переменная для подсчета потерь эпохи при тестировании\n",
    "    loss_val = 0\n",
    "    # Переменная для подсчета количества данных при тестировании (может возникнуть ситуация, когда в батче будет хоть один \"boxes\" == [0, 0, 0, 0], что сломает процесс валидации)\n",
    "    count_val = 0\n",
    "    \n",
    "    for images, labels in tqdm(dataloader_train):\n",
    "        flag = False\n",
    "        # Проверка на пригодность labels для обучения\n",
    "        for el in labels:\n",
    "            # Массив для проверки\n",
    "            check_arr = [ten.item() for ten in el[\"boxes\"][0]]\n",
    "            # Условие для проверки\n",
    "            if check_arr == [.0, .0, .0, .0]:\n",
    "                flag = True\n",
    "                break\n",
    "        if flag:\n",
    "            continue\n",
    "                \n",
    "        # Конвертация данных\n",
    "        images = list(image.to(device) for image in images)\n",
    "        labels = [{k: v.to(device) for k, v in t.items()} for t in labels]\n",
    "\n",
    "        # Обнуление градиента\n",
    "        optimizer.zero_grad()\n",
    "        \n",
    "        try:\n",
    "            # Предсказание\n",
    "            loss_dict = model(images, labels)\n",
    "        except Exception as e:\n",
    "            print(e)\n",
    "            continue\n",
    "\n",
    "        # Нужное значение из предсказания\n",
    "        loss_keypoint = loss_dict['loss_keypoint']\n",
    "\n",
    "        # Дифференцирование с учетом параметров\n",
    "        loss_keypoint.backward()\n",
    "        # Шаг оптимизации\n",
    "        optimizer.step()\n",
    "\n",
    "        # Суммирование потерь\n",
    "        loss_train += loss_keypoint\n",
    "        # Подсчет количества данных\n",
    "        count_train += 1\n",
    "\n",
    "    # Уменьшение скорости обучения\n",
    "    lr_scheduler.step()\n",
    "\n",
    "    # Режим валидации модели\n",
    "    model.eval()\n",
    "    with torch.no_grad():\n",
    "        for images, labels in tqdm(dataloader_test):\n",
    "            flag = False\n",
    "            # Проверка на пригодность labels для обучения\n",
    "            for el in labels:\n",
    "                # Массив для проверки\n",
    "                check_arr = [ten.item() for ten in el[\"boxes\"][0]]\n",
    "                # Условие для проверки\n",
    "                if check_arr == [.0, .0, .0, .0]:\n",
    "                    flag = True\n",
    "                    break\n",
    "            if flag:\n",
    "                continue\n",
    "                    \n",
    "            # Конвертация данных\n",
    "            images = list(image.to(device) for image in images)\n",
    "            labels = [{k: v.to(device) for k, v in t.items()} for t in labels]\n",
    "\n",
    "            try:\n",
    "                # Предсказание\n",
    "                loss_dict = model(images, labels)\n",
    "            except Exception as e:\n",
    "                print(e)\n",
    "                continue\n",
    "    \n",
    "            # Нужное значение из предсказания\n",
    "            loss_keypoint = loss_dict['loss_keypoint']\n",
    "    \n",
    "            # Дифференцирование с учетом параметров\n",
    "            loss_keypoint.backward()\n",
    "    \n",
    "            # Суммирование потерь\n",
    "            loss_val += loss_keypoint\n",
    "            # Подсчет количества данных\n",
    "            count_val += 1\n",
    "    \n",
    "    \n",
    "    print(f\"Потери при обучении: {loss_train / count_train:.6f}\\nПотери при валидации: {loss_val / count_val:.6f}\\nСкорость обучения: {optimizer.param_groups[0]['lr']}\")\n",
    "    # Сохранение модели\n",
    "    if loss_val < best_loss:\n",
    "        best_loss = loss_val\n",
    "        torch.save({\n",
    "            'model': model.state_dict(),\n",
    "            'epoch': epoch,\n",
    "            'loss': loss_val\n",
    "        }, save_path)"
   ]
  },
  {
   "cell_type": "markdown",
   "id": "706f81e1-123b-40b6-92a5-a5acd15d324f",
   "metadata": {},
   "source": [
    "# Тестирование модели"
   ]
  },
  {
   "cell_type": "code",
   "execution_count": null,
   "id": "424885a9-ab07-493e-9f4b-b0ede59b617e",
   "metadata": {},
   "outputs": [],
   "source": [
    "# Чтение изображения\n",
    "image = read_image(str(Path(test_image_path)))\n",
    "# Препроцессинг изображения\n",
    "image_preproc = transforms(image)\n",
    "\n",
    "# Загрузка лучших весов модели\n",
    "model.load_state_dict(torch.load(save_path)[\"model\"])\n",
    "# Режим валидации модели\n",
    "model.eval()\n",
    "\n",
    "# Предсказание\n",
    "outputs = model([image_preproc.to(device)])\n",
    "\n",
    "# Выделение ключивых точек\n",
    "kpts = outputs[0]['keypoints']\n",
    "# Выделение степени уверенности\n",
    "scores = outputs[0]['scores']\n",
    "# Сохранение изображения с различными ключевыми точками\n",
    "for i in range(10):\n",
    "    detect_threshold = i / 10\n",
    "    idx = torch.where(scores > detect_threshold)\n",
    "    keypoints = kpts[idx]\n",
    "\n",
    "    res = draw_keypoints(image, keypoints, colors=\"blue\", radius=3)\n",
    "    save_image(res / 255, save_img_path.format(detect_threshold))"
   ]
  },
  {
   "cell_type": "code",
   "execution_count": null,
   "id": "030d61a8-c673-4b7d-9e70-ff2eed50f586",
   "metadata": {},
   "outputs": [],
   "source": []
  }
 ],
 "metadata": {
  "kernelspec": {
   "display_name": "Python 3 (ipykernel)",
   "language": "python",
   "name": "python3"
  },
  "language_info": {
   "codemirror_mode": {
    "name": "ipython",
    "version": 3
   },
   "file_extension": ".py",
   "mimetype": "text/x-python",
   "name": "python",
   "nbconvert_exporter": "python",
   "pygments_lexer": "ipython3",
   "version": "3.11.3"
  }
 },
 "nbformat": 4,
 "nbformat_minor": 5
}
